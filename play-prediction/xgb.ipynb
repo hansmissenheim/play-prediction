{
 "cells": [
  {
   "cell_type": "code",
   "execution_count": null,
   "metadata": {},
   "outputs": [],
   "source": [
    "import nfl_data_py as nfl\n",
    "from sklearn.metrics import accuracy_score\n",
    "from sklearn.preprocessing import LabelEncoder\n",
    "from xgboost import XGBClassifier"
   ]
  },
  {
   "cell_type": "code",
   "execution_count": null,
   "metadata": {},
   "outputs": [],
   "source": [
    "train_data = nfl.import_pbp_data(range(1999, 2021), cache=True)\n",
    "test_data = nfl.import_pbp_data([2022], cache=True)\n",
    "validation_data = nfl.import_pbp_data([2023], cache=True)\n",
    "\n",
    "print(f\"Train dataset shape: {train_data.shape}\")\n",
    "print(f\"Test dataset shape: {test_data.shape}\")\n",
    "print(f\"Validation dataset shape: {validation_data.shape}\")"
   ]
  },
  {
   "cell_type": "code",
   "execution_count": null,
   "metadata": {},
   "outputs": [],
   "source": [
    "train_data = train_data[train_data[\"play_type\"].isin([\"run\", \"pass\"])]\n",
    "test_data = test_data[test_data[\"play_type\"].isin([\"run\", \"pass\"])]\n",
    "validation_data = validation_data[validation_data[\"play_type\"].isin([\"run\", \"pass\"])]\n",
    "\n",
    "print(f\"Train dataset shape: {train_data.shape}\")\n",
    "print(f\"Test dataset shape: {test_data.shape}\")\n",
    "print(f\"Validation dataset shape: {validation_data.shape}\")"
   ]
  },
  {
   "cell_type": "code",
   "execution_count": null,
   "metadata": {},
   "outputs": [],
   "source": [
    "train_data[\"play_type\"] = LabelEncoder().fit_transform(train_data[\"play_type\"])\n",
    "test_data[\"play_type\"] = LabelEncoder().fit_transform(test_data[\"play_type\"])\n",
    "validation_data[\"play_type\"] = LabelEncoder().fit_transform(\n",
    "    validation_data[\"play_type\"]\n",
    ")"
   ]
  },
  {
   "cell_type": "code",
   "execution_count": null,
   "metadata": {},
   "outputs": [],
   "source": [
    "columns = [\n",
    "    \"drive\",\n",
    "    \"qtr\",\n",
    "    \"quarter_seconds_remaining\",\n",
    "    \"down\",\n",
    "    \"ydstogo\",\n",
    "    \"yardline_100\",\n",
    "    \"shotgun\",\n",
    "    \"no_huddle\",\n",
    "    \"score_differential\",\n",
    "    \"spread_line\",\n",
    "    \"season\",\n",
    "]\n",
    "\n",
    "clf = XGBClassifier()\n",
    "clf.fit(train_data[columns].values, train_data[\"play_type\"])\n",
    "test_preds = clf.predict(test_data[columns].values)\n",
    "accuracy_score(test_data[\"play_type\"], test_preds)"
   ]
  }
 ],
 "metadata": {
  "kernelspec": {
   "display_name": ".venv",
   "language": "python",
   "name": "python3"
  },
  "language_info": {
   "codemirror_mode": {
    "name": "ipython",
    "version": 3
   },
   "file_extension": ".py",
   "mimetype": "text/x-python",
   "name": "python",
   "nbconvert_exporter": "python",
   "pygments_lexer": "ipython3",
   "version": "3.11.9"
  }
 },
 "nbformat": 4,
 "nbformat_minor": 2
}
